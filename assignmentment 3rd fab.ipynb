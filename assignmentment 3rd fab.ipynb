{
 "cells": [
  {
   "cell_type": "code",
   "execution_count": 25,
   "id": "24b61598-a5b2-45bb-8043-183fc87c33b7",
   "metadata": {},
   "outputs": [
    {
     "name": "stdout",
     "output_type": "stream",
     "text": [
      "The list of an odd numbers in the range of 1 to 25:\n"
     ]
    },
    {
     "data": {
      "text/plain": [
       "[1, 3, 5, 7, 9, 11, 13, 15, 17, 19, 21, 23, 25]"
      ]
     },
     "execution_count": 25,
     "metadata": {},
     "output_type": "execute_result"
    }
   ],
   "source": [
    "# Q1. Which keyword is used to create a function? Create a function to return a list of odd numbers in the\n",
    "#     range of 1 to 25.\n",
    "# Ans   def keyword is used for create a function.\n",
    "\n",
    "def func():\n",
    "    l1 = []\n",
    "    for i in range(26):\n",
    "        if i%2!=0:\n",
    "            l1.append(i)\n",
    "    return l1        \n",
    "print(\"The list of an odd numbers in the range of 1 to 25:\")            \n",
    "func()            \n",
    "    \n",
    "\n",
    "\n",
    "#odd_nos = list(filter(lambda x: (x % 2 != 0), list1))"
   ]
  },
  {
   "cell_type": "code",
   "execution_count": 22,
   "id": "ac1e086a-d80a-41d8-af6a-236692a6d138",
   "metadata": {},
   "outputs": [
    {
     "data": {
      "text/plain": [
       "{'a': [1, 2, 3, 5, 8], 'b': 'pradeeep', 'c': 20.35}"
      ]
     },
     "execution_count": 22,
     "metadata": {},
     "output_type": "execute_result"
    }
   ],
   "source": [
    "# Q2. Why *args and **kwargs is used in some functions? Create a function each for *args and **kwargs\n",
    "# to demonstrate their use.\n",
    "\n",
    "# Ans when you are unsure about the number of arguments to pass in the functions.\n",
    "def func(*args):\n",
    "    return args\n",
    "func(32,36,25)\n",
    "\n",
    "def func(a,b,c,d):\n",
    "    return int((a+b+c)/d)\n",
    "func(12,14,52,26)    \n",
    "\n",
    "def  func(**kwargs):\n",
    "    return kwargs\n",
    "func(a= [1,2,3,5,8] ,b = 'pradeeep',c = 20.35)"
   ]
  },
  {
   "cell_type": "code",
   "execution_count": 28,
   "id": "f36304a4-8324-4c63-b5e1-c27c92c63c05",
   "metadata": {},
   "outputs": [
    {
     "data": {
      "text/plain": [
       "[2, 4, 6, 8, 10]"
      ]
     },
     "execution_count": 28,
     "metadata": {},
     "output_type": "execute_result"
    }
   ],
   "source": [
    "# Q3.  What is an iterator in python? Name the method used to initialise the iterator object and the method\n",
    "#      used for iteration. Use these methods to print the first five elements of the given list [2, 4, 6, 8, 10, 12, 14,\n",
    "#      16, 18, 20].\n",
    "# Ans An iterator is an object that contains a countable number of values.\n",
    "#     The iterator object is initialized using the iter() method. It uses the next() method for iteration.\n",
    "#     from functools import reduce\n",
    "l = [2,4,6,8,10,12,14,16,18,20]\n",
    "def func():\n",
    "    l1 = []\n",
    "    for i in l:\n",
    "        if i <=10:\n",
    "            l1.append(i)\n",
    "    return l1\n",
    "func()\n"
   ]
  },
  {
   "cell_type": "code",
   "execution_count": 49,
   "id": "818c521e-41aa-4fcd-8765-dd7d50a7c1df",
   "metadata": {},
   "outputs": [
    {
     "name": "stdout",
     "output_type": "stream",
     "text": [
      "1 2 3 "
     ]
    }
   ],
   "source": [
    "#Q4.  What is a generator function in python? Why yield keyword is used? Give an example of a generator function.\n",
    "\n",
    "# Ans--->>> a generator is a function that returns an iterator that produces a sequence of values when iterated over.\n",
    "#           because the yield keyword will convert an expression that is specified along with it to a generator\n",
    "#            object and return it to the caller. \n",
    "\n",
    "def simple_generator():\n",
    "    yield 1\n",
    "    yield 2 \n",
    "    yield 3\n",
    "for i in simple_generator():\n",
    "    print(i,end=' ')"
   ]
  },
  {
   "cell_type": "code",
   "execution_count": 12,
   "id": "c62b3690-fd98-469a-a545-ac4ea22c7c9b",
   "metadata": {},
   "outputs": [
    {
     "name": "stdout",
     "output_type": "stream",
     "text": [
      "2\n",
      "3\n",
      "5\n",
      "7\n",
      "11\n",
      "13\n",
      "17\n",
      "19\n",
      "23\n",
      "29\n",
      "31\n",
      "37\n",
      "41\n",
      "43\n",
      "47\n",
      "53\n",
      "59\n",
      "61\n",
      "67\n",
      "71\n"
     ]
    }
   ],
   "source": [
    "# Q5. Create a generator function for prime numbers less than 1000. Use the next() method to print the  first 20 prime numbers.\n",
    "\n",
    "def prime_generator():\n",
    "    n = 1\n",
    "    while True:\n",
    "        n += 1\n",
    "        if is_prime(n):\n",
    "            yield n\n",
    "generator = prime_generator()\n",
    "\n",
    "for i in range(20):\n",
    "    print(next(generator))\n"
   ]
  },
  {
   "cell_type": "code",
   "execution_count": 2,
   "id": "44cdeb7e-f042-420b-846a-2c0fb8ef1803",
   "metadata": {},
   "outputs": [
    {
     "name": "stdout",
     "output_type": "stream",
     "text": [
      "0\n",
      "1\n",
      "1\n",
      "2\n",
      "3\n",
      "5\n",
      "8\n",
      "13\n",
      "21\n",
      "34\n"
     ]
    }
   ],
   "source": [
    "#Q6. Write a python program to print the first 10 Fibonacci numbers using a while loop\n",
    "\n",
    "def fib_num(n):\n",
    "    a,b = 0,1\n",
    "    while True:\n",
    "        yield a\n",
    "        a,b = b ,a+b\n",
    "fib = fib_num(10)\n",
    "\n",
    "for i in range(10):\n",
    "    print(next(fib))    "
   ]
  },
  {
   "cell_type": "code",
   "execution_count": 5,
   "id": "453471ad-28f1-4df4-8a16-0df9caa18eba",
   "metadata": {},
   "outputs": [
    {
     "data": {
      "text/plain": [
       "['P', 'W', 'S', 'K', 'I', 'L', 'L', 'S']"
      ]
     },
     "execution_count": 5,
     "metadata": {},
     "output_type": "execute_result"
    }
   ],
   "source": [
    "# Q7. Write a List Comprehension to iterate through the given string: ‘pwskills’.\n",
    "#      Expected output: ['p', 'w', 's', 'k', 'i', 'l', 'l', 's']\n",
    "\n",
    "s = 'pwskills'\n",
    "list(map(lambda s:s.upper(),s))"
   ]
  },
  {
   "cell_type": "code",
   "execution_count": 8,
   "id": "e9c057af-763f-4320-8d75-7d51783e0449",
   "metadata": {},
   "outputs": [
    {
     "name": "stdin",
     "output_type": "stream",
     "text": [
      "Enetr your number for which you want to check palindrames 2112\n"
     ]
    },
    {
     "name": "stdout",
     "output_type": "stream",
     "text": [
      "2112  Yes it is palindrames\n"
     ]
    }
   ],
   "source": [
    "# Q8.  Write a python program to check whether a given number is Palindrome or not using a while loop.\n",
    "\n",
    "input1 = int(input('Enetr your number for which you want to check palindrames'))\n",
    "str_input1 = str(input1)\n",
    "str_input1 = str_input1[::-1]\n",
    "if (str_input1 ==str(input1)):\n",
    "    print(input1, ' Yes it is palindrames')\n",
    "else:  \n",
    "      print(input1, ' it is not  palindrames')"
   ]
  },
  {
   "cell_type": "code",
   "execution_count": 25,
   "id": "08ca975f-c786-4231-b472-b167d7baa0a2",
   "metadata": {},
   "outputs": [
    {
     "name": "stdout",
     "output_type": "stream",
     "text": [
      "[1, 2, 3, 4, 5, 6, 7, 8, 9, 10, 11, 12, 13, 14, 15, 16, 17, 18, 19, 20, 21, 22, 23, 24, 25, 26, 27, 28, 29, 30, 31, 32, 33, 34, 35, 36, 37, 38, 39, 40, 41, 42, 43, 44, 45, 46, 47, 48, 49, 50, 51, 52, 53, 54, 55, 56, 57, 58, 59, 60, 61, 62, 63, 64, 65, 66, 67, 68, 69, 70, 71, 72, 73, 74, 75, 76, 77, 78, 79, 80, 81, 82, 83, 84, 85, 86, 87, 88, 89, 90, 91, 92, 93, 94, 95, 96, 97, 98, 99, 100]\n"
     ]
    }
   ],
   "source": [
    "# Q9. Write a code to print odd numbers from 1 to 100 using list comprehension.\n",
    "#     Note: Use a list comprehension to create a list from 1 to 100 and use another List comprehension to filter\n",
    "#     out odd numbers.  \n",
    "\n",
    "# def func():\n",
    "#     l1 = []\n",
    "#     for i in range(101):\n",
    "        \n",
    "#             l1.append(i)\n",
    "#     return l1        \n",
    "# print(\"The list of an odd numbers in the range of 1 to 100 :\")            \n",
    "# func() \n",
    "list_number = [x for x in range(1,101)]\n",
    "print(list_number)\n",
    "\n"
   ]
  },
  {
   "cell_type": "code",
   "execution_count": 26,
   "id": "a275a819-b387-4d0f-afb1-a86062328033",
   "metadata": {},
   "outputs": [
    {
     "data": {
      "text/plain": [
       "[1,\n",
       " 3,\n",
       " 5,\n",
       " 7,\n",
       " 9,\n",
       " 11,\n",
       " 13,\n",
       " 15,\n",
       " 17,\n",
       " 19,\n",
       " 21,\n",
       " 23,\n",
       " 25,\n",
       " 27,\n",
       " 29,\n",
       " 31,\n",
       " 33,\n",
       " 35,\n",
       " 37,\n",
       " 39,\n",
       " 41,\n",
       " 43,\n",
       " 45,\n",
       " 47,\n",
       " 49,\n",
       " 51,\n",
       " 53,\n",
       " 55,\n",
       " 57,\n",
       " 59,\n",
       " 61,\n",
       " 63,\n",
       " 65,\n",
       " 67,\n",
       " 69,\n",
       " 71,\n",
       " 73,\n",
       " 75,\n",
       " 77,\n",
       " 79,\n",
       " 81,\n",
       " 83,\n",
       " 85,\n",
       " 87,\n",
       " 89,\n",
       " 91,\n",
       " 93,\n",
       " 95,\n",
       " 97,\n",
       " 99]"
      ]
     },
     "execution_count": 26,
     "metadata": {},
     "output_type": "execute_result"
    }
   ],
   "source": [
    "l = [1, 2, 3, 4, 5, 6, 7, 8, 9, 10, 11, 12, 13, 14, 15, 16, 17, 18, 19, 20, 21, 22, 23, 24, 25, 26, 27, 28, 29, 30, 31, 32, 33, 34, 35, 36, 37, 38, 39, 40, 41, 42, 43, 44, 45, 46, 47, 48, \n",
    " 49, 50, 51, 52, 53, 54, 55, 56, 57, 58, 59, 60, 61, 62, 63, 64, 65, 66, 67, 68, 69, 70, 71, 72, 73, 74, 75, 76, 77, 78, 79, 80, 81, 82, 83, 84, 85, 86, 87, 88, 89, 90, 91, 92, 93, 94, 95, 96,\n",
    " 97, 98, 99, 100]\n",
    "\n",
    "list(filter(lambda x: x%2!=0,l))\n"
   ]
  },
  {
   "cell_type": "code",
   "execution_count": null,
   "id": "41fc6451-9a83-4627-9d16-65d644ee4d78",
   "metadata": {},
   "outputs": [],
   "source": []
  }
 ],
 "metadata": {
  "kernelspec": {
   "display_name": "Python 3 (ipykernel)",
   "language": "python",
   "name": "python3"
  },
  "language_info": {
   "codemirror_mode": {
    "name": "ipython",
    "version": 3
   },
   "file_extension": ".py",
   "mimetype": "text/x-python",
   "name": "python",
   "nbconvert_exporter": "python",
   "pygments_lexer": "ipython3",
   "version": "3.10.8"
  }
 },
 "nbformat": 4,
 "nbformat_minor": 5
}
